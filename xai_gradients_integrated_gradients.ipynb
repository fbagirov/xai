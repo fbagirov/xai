{
 "cells": [
  {
   "cell_type": "markdown",
   "id": "6b34aca1-0ca9-425d-bdcb-b68e60766956",
   "metadata": {},
   "source": [
    "# Integrated Gradients\n",
    "\n",
    "**idea:** Helps to understand why a model made a specific decision. For example, it predicted a number \"3\" in an image. You want to know which pixels were most responsible for that decision. Answering the question \"What parts of the input were most important in getting from a baseline (like a blank image) to the actual prediction?\"\n",
    "\n",
    "Baseline input: A neutral version of your input (e.g., a black image with all zeros).\n",
    "Actual input: The real input (e.g., the handwritten digit image).\n",
    "Gradient: It shows how much a change in input affects the model’s prediction.\n",
    "Integrated gradient: You average gradients from baseline to input across many small steps.\n",
    "\n",
    "Process: \n",
    "- Slowly fade in the image from black to full image.\n",
    "- At each step, see how the model's prediction changes.\n",
    "- Average these changes to find out which pixels mattered most."
   ]
  },
  {
   "cell_type": "code",
   "execution_count": 3,
   "id": "0410073e-7d07-4b77-b1d5-30f01d92eb67",
   "metadata": {},
   "outputs": [
    {
     "name": "stdout",
     "output_type": "stream",
     "text": [
      "Defaulting to user installation because normal site-packages is not writeable\n",
      "Looking in indexes: https://pypi.org/simple, https://pypi.ngc.nvidia.com\n",
      "Collecting captum\n",
      "  Downloading captum-0.8.0-py3-none-any.whl.metadata (26 kB)\n",
      "Requirement already satisfied: matplotlib in c:\\users\\fbagi\\appdata\\roaming\\python\\python311\\site-packages (from captum) (3.8.2)\n",
      "Requirement already satisfied: numpy<2.0 in c:\\users\\fbagi\\appdata\\roaming\\python\\python311\\site-packages (from captum) (1.26.4)\n",
      "Requirement already satisfied: packaging in c:\\programdata\\anaconda3\\lib\\site-packages (from captum) (23.1)\n",
      "Requirement already satisfied: torch>=1.10 in c:\\programdata\\anaconda3\\lib\\site-packages (from captum) (2.1.2)\n",
      "Requirement already satisfied: tqdm in c:\\programdata\\anaconda3\\lib\\site-packages (from captum) (4.65.0)\n",
      "Requirement already satisfied: filelock in c:\\programdata\\anaconda3\\lib\\site-packages (from torch>=1.10->captum) (3.13.1)\n",
      "Requirement already satisfied: typing-extensions in c:\\programdata\\anaconda3\\lib\\site-packages (from torch>=1.10->captum) (4.9.0)\n",
      "Requirement already satisfied: sympy in c:\\programdata\\anaconda3\\lib\\site-packages (from torch>=1.10->captum) (1.12)\n",
      "Requirement already satisfied: networkx in c:\\programdata\\anaconda3\\lib\\site-packages (from torch>=1.10->captum) (3.1)\n",
      "Requirement already satisfied: jinja2 in c:\\programdata\\anaconda3\\lib\\site-packages (from torch>=1.10->captum) (3.1.2)\n",
      "Requirement already satisfied: fsspec in c:\\programdata\\anaconda3\\lib\\site-packages (from torch>=1.10->captum) (2023.10.0)\n",
      "Requirement already satisfied: MarkupSafe>=2.0 in c:\\programdata\\anaconda3\\lib\\site-packages (from jinja2->torch>=1.10->captum) (2.1.3)\n",
      "Requirement already satisfied: contourpy>=1.0.1 in c:\\programdata\\anaconda3\\lib\\site-packages (from matplotlib->captum) (1.2.0)\n",
      "Requirement already satisfied: cycler>=0.10 in c:\\programdata\\anaconda3\\lib\\site-packages (from matplotlib->captum) (0.11.0)\n",
      "Requirement already satisfied: fonttools>=4.22.0 in c:\\programdata\\anaconda3\\lib\\site-packages (from matplotlib->captum) (4.25.0)\n",
      "Requirement already satisfied: kiwisolver>=1.3.1 in c:\\programdata\\anaconda3\\lib\\site-packages (from matplotlib->captum) (1.4.4)\n",
      "Requirement already satisfied: pillow>=8 in c:\\programdata\\anaconda3\\lib\\site-packages (from matplotlib->captum) (10.0.1)\n",
      "Requirement already satisfied: pyparsing>=2.3.1 in c:\\programdata\\anaconda3\\lib\\site-packages (from matplotlib->captum) (3.0.9)\n",
      "Requirement already satisfied: python-dateutil>=2.7 in c:\\programdata\\anaconda3\\lib\\site-packages (from matplotlib->captum) (2.8.2)\n",
      "Requirement already satisfied: six>=1.5 in c:\\programdata\\anaconda3\\lib\\site-packages (from python-dateutil>=2.7->matplotlib->captum) (1.16.0)\n",
      "Requirement already satisfied: mpmath>=0.19 in c:\\programdata\\anaconda3\\lib\\site-packages (from sympy->torch>=1.10->captum) (1.3.0)\n",
      "Requirement already satisfied: colorama in c:\\programdata\\anaconda3\\lib\\site-packages (from tqdm->captum) (0.4.6)\n",
      "Downloading captum-0.8.0-py3-none-any.whl (1.4 MB)\n",
      "   ---------------------------------------- 0.0/1.4 MB ? eta -:--:--\n",
      "   ---------------------------------------- 1.4/1.4 MB 71.3 MB/s  0:00:00\n",
      "Installing collected packages: captum\n",
      "Successfully installed captum-0.8.0\n"
     ]
    },
    {
     "name": "stderr",
     "output_type": "stream",
     "text": [
      "WARNING: Ignoring invalid distribution ~atplotlib (C:\\Users\\fbagi\\AppData\\Roaming\\Python\\Python311\\site-packages)\n",
      "WARNING: Ignoring invalid distribution ~atplotlib (C:\\Users\\fbagi\\AppData\\Roaming\\Python\\Python311\\site-packages)\n",
      "WARNING: Ignoring invalid distribution ~atplotlib (C:\\Users\\fbagi\\AppData\\Roaming\\Python\\Python311\\site-packages)\n"
     ]
    }
   ],
   "source": [
    "!pip install captum"
   ]
  },
  {
   "cell_type": "code",
   "execution_count": 4,
   "id": "2d576926-ee98-4e59-9f0c-ead4ff72b203",
   "metadata": {},
   "outputs": [],
   "source": [
    "import torch\n",
    "import torch.nn as nn\n",
    "import torch.nn.functional as F\n",
    "from torchvision import datasets, transforms\n",
    "from torch.utils.data import DataLoader\n",
    "from captum.attr import IntegratedGradients\n",
    "import matplotlib.pyplot as plt\n",
    "import numpy as np"
   ]
  },
  {
   "cell_type": "code",
   "execution_count": 5,
   "id": "ebff8ce2-f2ad-40be-86fe-483564ea9938",
   "metadata": {},
   "outputs": [],
   "source": [
    "# Define a simple neural network\n",
    "class SimpleNet(nn.Module):\n",
    "    def __init__(self):\n",
    "        super(SimpleNet, self).__init__()\n",
    "        self.fc1 = nn.Linear(28*28, 64)\n",
    "        self.fc2 = nn.Linear(64, 10)\n",
    "\n",
    "    def forward(self, x):\n",
    "        x = x.view(-1, 28*28)  # Flatten\n",
    "        x = F.relu(self.fc1(x))\n",
    "        return self.fc2(x)"
   ]
  },
  {
   "cell_type": "code",
   "execution_count": 6,
   "id": "34a13e8a-f861-4992-a136-4a549f5ef2ba",
   "metadata": {},
   "outputs": [],
   "source": [
    "# Load MNIST data\n",
    "transform = transforms.ToTensor()\n",
    "train_data = datasets.MNIST(root='./data', train=True, download=True, transform=transform)\n",
    "test_data = datasets.MNIST(root='./data', train=False, download=True, transform=transform)\n",
    "\n",
    "train_loader = DataLoader(train_data, batch_size=64, shuffle=True)\n",
    "test_loader = DataLoader(test_data, batch_size=1, shuffle=True)"
   ]
  },
  {
   "cell_type": "code",
   "execution_count": 7,
   "id": "24d2640d-9418-4e61-8ef8-7dc0f3940af6",
   "metadata": {},
   "outputs": [],
   "source": [
    "# Load MNIST data\n",
    "transform = transforms.ToTensor()\n",
    "train_data = datasets.MNIST(root='./data', train=True, download=True, transform=transform)\n",
    "test_data = datasets.MNIST(root='./data', train=False, download=True, transform=transform)\n",
    "\n",
    "train_loader = DataLoader(train_data, batch_size=64, shuffle=True)\n",
    "test_loader = DataLoader(test_data, batch_size=1, shuffle=True)"
   ]
  },
  {
   "cell_type": "code",
   "execution_count": 8,
   "id": "1ebcb0ca-f2e2-4a84-a676-78b971fca9c4",
   "metadata": {},
   "outputs": [],
   "source": [
    "# Initialize model, loss, optimizer\n",
    "device = torch.device(\"cuda\" if torch.cuda.is_available() else \"cpu\")\n",
    "model = SimpleNet().to(device)\n",
    "criterion = nn.CrossEntropyLoss()\n",
    "optimizer = torch.optim.Adam(model.parameters(), lr=0.001)"
   ]
  },
  {
   "cell_type": "code",
   "execution_count": 9,
   "id": "1be79997-77eb-4552-99b5-f395981fdad8",
   "metadata": {},
   "outputs": [],
   "source": [
    "# Train the model (quick 1-epoch training for demo)\n",
    "for epoch in range(1):\n",
    "    model.train()\n",
    "    for images, labels in train_loader:\n",
    "        images, labels = images.to(device), labels.to(device)\n",
    "        optimizer.zero_grad()\n",
    "        output = model(images)\n",
    "        loss = criterion(output, labels)\n",
    "        loss.backward()\n",
    "        optimizer.step()"
   ]
  },
  {
   "cell_type": "code",
   "execution_count": 11,
   "id": "50290eb7-d89d-4cf3-b0ad-3a445448c6e2",
   "metadata": {},
   "outputs": [],
   "source": [
    "# Select a test image\n",
    "model.eval()\n",
    "images, labels = next(iter(test_loader))\n",
    "image = images[0].to(device)\n",
    "label = labels[0].item()"
   ]
  },
  {
   "cell_type": "code",
   "execution_count": 12,
   "id": "a3046029-3ead-4fd9-bc79-fb2b5e55ccfd",
   "metadata": {},
   "outputs": [],
   "source": [
    "# Use Integrated Gradients\n",
    "ig = IntegratedGradients(model)"
   ]
  },
  {
   "cell_type": "code",
   "execution_count": 13,
   "id": "d5dd8749-2fe7-433b-a1ca-23a4c88d0cac",
   "metadata": {},
   "outputs": [],
   "source": [
    "# Set baseline to a black image (all zeros)\n",
    "baseline = torch.zeros_like(image)"
   ]
  },
  {
   "cell_type": "code",
   "execution_count": 14,
   "id": "c38d8ca5-87ed-41a6-8e52-48d33cd44582",
   "metadata": {},
   "outputs": [],
   "source": [
    "# Get attribution scores\n",
    "attributions, delta = ig.attribute(inputs=image.unsqueeze(0), \n",
    "                                   baselines=baseline.unsqueeze(0), \n",
    "                                   target=label, \n",
    "                                   return_convergence_delta=True)"
   ]
  },
  {
   "cell_type": "code",
   "execution_count": 15,
   "id": "4b487f03-6db3-4921-891c-72035303dc63",
   "metadata": {},
   "outputs": [
    {
     "data": {
      "image/png": "[encoded data removed]",
      "text/plain": [
       "<Figure size 1000x400 with 3 Axes>"
      ]
     },
     "metadata": {},
     "output_type": "display_data"
    }
   ],
   "source": [
    "# Visualize the attribution\n",
    "attributions = attributions.squeeze().cpu().detach().numpy()\n",
    "image_np = image.squeeze().cpu().detach().numpy()\n",
    "\n",
    "plt.figure(figsize=(10,4))\n",
    "\n",
    "plt.subplot(1, 3, 1)\n",
    "plt.imshow(image_np, cmap='gray')\n",
    "plt.title(f\"Original Image (Label {label})\")\n",
    "\n",
    "plt.subplot(1, 3, 2)\n",
    "plt.imshow(attributions, cmap='hot')\n",
    "plt.title(\"Attributions (IG)\")\n",
    "\n",
    "plt.subplot(1, 3, 3)\n",
    "plt.imshow(image_np, cmap='gray')\n",
    "plt.imshow(attributions, cmap='hot', alpha=0.5)\n",
    "plt.title(\"Overlay\")\n",
    "\n",
    "plt.tight_layout()\n",
    "plt.show()"
   ]
  },
  {
   "cell_type": "code",
   "execution_count": null,
   "id": "49c01f91-671b-443c-8022-34f1123759b7",
   "metadata": {},
   "outputs": [],
   "source": []
  },
  {
   "cell_type": "code",
   "execution_count": null,
   "id": "be0f5334-7592-4cd4-b76d-3c32914c4b59",
   "metadata": {},
   "outputs": [],
   "source": []
  },
  {
   "cell_type": "code",
   "execution_count": null,
   "id": "fedf0324-3832-4121-8627-c286af7bb275",
   "metadata": {},
   "outputs": [],
   "source": []
  },
  {
   "cell_type": "code",
   "execution_count": null,
   "id": "1fba2214-946f-4257-9d45-16e4d847cde8",
   "metadata": {},
   "outputs": [],
   "source": []
  },
  {
   "cell_type": "code",
   "execution_count": null,
   "id": "155c753c-e9fe-4446-ab40-7d512836d300",
   "metadata": {},
   "outputs": [],
   "source": []
  },
  {
   "cell_type": "code",
   "execution_count": null,
   "id": "ba419d78-7e10-483f-91ab-b0b47d56f010",
   "metadata": {},
   "outputs": [],
   "source": []
  },
  {
   "cell_type": "code",
   "execution_count": null,
   "id": "22c6aa02-e613-4634-a1f3-7caa5b50439d",
   "metadata": {},
   "outputs": [],
   "source": []
  },
  {
   "cell_type": "code",
   "execution_count": null,
   "id": "770665f4-57f5-476a-83bc-a623b26c0bdf",
   "metadata": {},
   "outputs": [],
   "source": []
  },
  {
   "cell_type": "code",
   "execution_count": null,
   "id": "8d7acc80-7258-4b52-bf88-708a6ac50fbe",
   "metadata": {},
   "outputs": [],
   "source": []
  },
  {
   "cell_type": "code",
   "execution_count": null,
   "id": "d4153d2e-fbd4-4014-b87b-e74f956537b7",
   "metadata": {},
   "outputs": [],
   "source": []
  },
  {
   "cell_type": "code",
   "execution_count": null,
   "id": "5612fc6c-37c8-4ab1-a99f-133a208f5f5e",
   "metadata": {},
   "outputs": [],
   "source": []
  }
 ],
 "metadata": {
  "kernelspec": {
   "display_name": "Python 3 (ipykernel)",
   "language": "python",
   "name": "python3"
  },
  "language_info": {
   "codemirror_mode": {
    "name": "ipython",
    "version": 3
   },
   "file_extension": ".py",
   "mimetype": "text/x-python",
   "name": "python",
   "nbconvert_exporter": "python",
   "pygments_lexer": "ipython3",
   "version": "3.11.5"
  }
 },
 "nbformat": 4,
 "nbformat_minor": 5
}
