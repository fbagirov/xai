{
 "cells": [
  {
   "cell_type": "markdown",
   "id": "4f1370fc-9f8b-49b7-b12c-86c405aba2c2",
   "metadata": {},
   "source": [
    "# CAM (Class Activation Mapping)\n",
    "**idea**: uses Convolutional Neural Network (CNN) to see which part of an image the model used to make its decision (which parts of the image looked like a dog to the model - ears, paws, etc.)"
   ]
  },
  {
   "cell_type": "code",
   "execution_count": 1,
   "id": "962bc28f-717c-409a-8ad8-d2e665c50716",
   "metadata": {},
   "outputs": [
    {
     "name": "stdout",
     "output_type": "stream",
     "text": [
      "Defaulting to user installation because normal site-packages is not writeable\n",
      "Looking in indexes: https://pypi.org/simple, https://pypi.ngc.nvidia.com\n",
      "Requirement already satisfied: tensorflow in c:\\users\\fbagi\\appdata\\roaming\\python\\python311\\site-packages (2.14.1)\n",
      "Requirement already satisfied: matplotlib in c:\\users\\fbagi\\appdata\\roaming\\python\\python311\\site-packages (3.8.2)\n",
      "Requirement already satisfied: numpy in c:\\users\\fbagi\\appdata\\roaming\\python\\python311\\site-packages (1.26.4)\n",
      "Requirement already satisfied: tensorflow-intel==2.14.1 in c:\\users\\fbagi\\appdata\\roaming\\python\\python311\\site-packages (from tensorflow) (2.14.1)\n",
      "Requirement already satisfied: absl-py>=1.0.0 in c:\\users\\fbagi\\appdata\\roaming\\python\\python311\\site-packages (from tensorflow-intel==2.14.1->tensorflow) (2.1.0)\n",
      "Requirement already satisfied: astunparse>=1.6.0 in c:\\users\\fbagi\\appdata\\roaming\\python\\python311\\site-packages (from tensorflow-intel==2.14.1->tensorflow) (1.6.3)\n",
      "Requirement already satisfied: flatbuffers>=23.5.26 in c:\\users\\fbagi\\appdata\\roaming\\python\\python311\\site-packages (from tensorflow-intel==2.14.1->tensorflow) (24.3.25)\n",
      "Requirement already satisfied: gast!=0.5.0,!=0.5.1,!=0.5.2,>=0.2.1 in c:\\users\\fbagi\\appdata\\roaming\\python\\python311\\site-packages (from tensorflow-intel==2.14.1->tensorflow) (0.6.0)\n",
      "Requirement already satisfied: google-pasta>=0.1.1 in c:\\users\\fbagi\\appdata\\roaming\\python\\python311\\site-packages (from tensorflow-intel==2.14.1->tensorflow) (0.2.0)\n",
      "Requirement already satisfied: h5py>=2.9.0 in c:\\users\\fbagi\\appdata\\roaming\\python\\python311\\site-packages (from tensorflow-intel==2.14.1->tensorflow) (3.12.1)\n",
      "Requirement already satisfied: libclang>=13.0.0 in c:\\users\\fbagi\\appdata\\roaming\\python\\python311\\site-packages (from tensorflow-intel==2.14.1->tensorflow) (18.1.1)\n",
      "Requirement already satisfied: ml-dtypes==0.2.0 in c:\\users\\fbagi\\appdata\\roaming\\python\\python311\\site-packages (from tensorflow-intel==2.14.1->tensorflow) (0.2.0)\n",
      "Requirement already satisfied: opt-einsum>=2.3.2 in c:\\users\\fbagi\\appdata\\roaming\\python\\python311\\site-packages (from tensorflow-intel==2.14.1->tensorflow) (3.4.0)\n",
      "Requirement already satisfied: packaging in c:\\programdata\\anaconda3\\lib\\site-packages (from tensorflow-intel==2.14.1->tensorflow) (23.1)\n",
      "Requirement already satisfied: protobuf!=4.21.0,!=4.21.1,!=4.21.2,!=4.21.3,!=4.21.4,!=4.21.5,<5.0.0dev,>=3.20.3 in c:\\users\\fbagi\\appdata\\roaming\\python\\python311\\site-packages (from tensorflow-intel==2.14.1->tensorflow) (4.25.8)\n",
      "Requirement already satisfied: setuptools in c:\\users\\fbagi\\appdata\\roaming\\python\\python311\\site-packages (from tensorflow-intel==2.14.1->tensorflow) (69.0.3)\n",
      "Requirement already satisfied: six>=1.12.0 in c:\\programdata\\anaconda3\\lib\\site-packages (from tensorflow-intel==2.14.1->tensorflow) (1.16.0)\n",
      "Requirement already satisfied: termcolor>=1.1.0 in c:\\users\\fbagi\\appdata\\roaming\\python\\python311\\site-packages (from tensorflow-intel==2.14.1->tensorflow) (2.5.0)\n",
      "Requirement already satisfied: typing-extensions>=3.6.6 in c:\\programdata\\anaconda3\\lib\\site-packages (from tensorflow-intel==2.14.1->tensorflow) (4.9.0)\n",
      "Requirement already satisfied: wrapt<1.15,>=1.11.0 in c:\\programdata\\anaconda3\\lib\\site-packages (from tensorflow-intel==2.14.1->tensorflow) (1.14.1)\n",
      "Requirement already satisfied: tensorflow-io-gcs-filesystem>=0.23.1 in c:\\users\\fbagi\\appdata\\roaming\\python\\python311\\site-packages (from tensorflow-intel==2.14.1->tensorflow) (0.31.0)\n",
      "Requirement already satisfied: grpcio<2.0,>=1.24.3 in c:\\users\\fbagi\\appdata\\roaming\\python\\python311\\site-packages (from tensorflow-intel==2.14.1->tensorflow) (1.66.2)\n",
      "Requirement already satisfied: tensorboard<2.15,>=2.14 in c:\\users\\fbagi\\appdata\\roaming\\python\\python311\\site-packages (from tensorflow-intel==2.14.1->tensorflow) (2.14.1)\n",
      "Requirement already satisfied: tensorflow-estimator<2.15,>=2.14.0 in c:\\users\\fbagi\\appdata\\roaming\\python\\python311\\site-packages (from tensorflow-intel==2.14.1->tensorflow) (2.14.0)\n",
      "Requirement already satisfied: keras<2.15,>=2.14.0 in c:\\users\\fbagi\\appdata\\roaming\\python\\python311\\site-packages (from tensorflow-intel==2.14.1->tensorflow) (2.14.0)\n",
      "Requirement already satisfied: google-auth<3,>=1.6.3 in c:\\users\\fbagi\\appdata\\roaming\\python\\python311\\site-packages (from tensorboard<2.15,>=2.14->tensorflow-intel==2.14.1->tensorflow) (2.40.3)\n",
      "Requirement already satisfied: google-auth-oauthlib<1.1,>=0.5 in c:\\users\\fbagi\\appdata\\roaming\\python\\python311\\site-packages (from tensorboard<2.15,>=2.14->tensorflow-intel==2.14.1->tensorflow) (1.0.0)\n",
      "Requirement already satisfied: markdown>=2.6.8 in c:\\programdata\\anaconda3\\lib\\site-packages (from tensorboard<2.15,>=2.14->tensorflow-intel==2.14.1->tensorflow) (3.4.1)\n",
      "Requirement already satisfied: requests<3,>=2.21.0 in c:\\programdata\\anaconda3\\lib\\site-packages (from tensorboard<2.15,>=2.14->tensorflow-intel==2.14.1->tensorflow) (2.31.0)\n",
      "Requirement already satisfied: tensorboard-data-server<0.8.0,>=0.7.0 in c:\\users\\fbagi\\appdata\\roaming\\python\\python311\\site-packages (from tensorboard<2.15,>=2.14->tensorflow-intel==2.14.1->tensorflow) (0.7.2)\n",
      "Requirement already satisfied: werkzeug>=1.0.1 in c:\\users\\fbagi\\appdata\\roaming\\python\\python311\\site-packages (from tensorboard<2.15,>=2.14->tensorflow-intel==2.14.1->tensorflow) (3.0.1)\n",
      "Requirement already satisfied: cachetools<6.0,>=2.0.0 in c:\\users\\fbagi\\appdata\\roaming\\python\\python311\\site-packages (from google-auth<3,>=1.6.3->tensorboard<2.15,>=2.14->tensorflow-intel==2.14.1->tensorflow) (5.5.2)\n",
      "Requirement already satisfied: pyasn1-modules>=0.2.1 in c:\\programdata\\anaconda3\\lib\\site-packages (from google-auth<3,>=1.6.3->tensorboard<2.15,>=2.14->tensorflow-intel==2.14.1->tensorflow) (0.2.8)\n",
      "Requirement already satisfied: rsa<5,>=3.1.4 in c:\\users\\fbagi\\appdata\\roaming\\python\\python311\\site-packages (from google-auth<3,>=1.6.3->tensorboard<2.15,>=2.14->tensorflow-intel==2.14.1->tensorflow) (4.9.1)\n",
      "Requirement already satisfied: requests-oauthlib>=0.7.0 in c:\\users\\fbagi\\appdata\\roaming\\python\\python311\\site-packages (from google-auth-oauthlib<1.1,>=0.5->tensorboard<2.15,>=2.14->tensorflow-intel==2.14.1->tensorflow) (2.0.0)\n",
      "Requirement already satisfied: charset-normalizer<4,>=2 in c:\\programdata\\anaconda3\\lib\\site-packages (from requests<3,>=2.21.0->tensorboard<2.15,>=2.14->tensorflow-intel==2.14.1->tensorflow) (2.0.4)\n",
      "Requirement already satisfied: idna<4,>=2.5 in c:\\programdata\\anaconda3\\lib\\site-packages (from requests<3,>=2.21.0->tensorboard<2.15,>=2.14->tensorflow-intel==2.14.1->tensorflow) (3.4)\n",
      "Requirement already satisfied: urllib3<3,>=1.21.1 in c:\\programdata\\anaconda3\\lib\\site-packages (from requests<3,>=2.21.0->tensorboard<2.15,>=2.14->tensorflow-intel==2.14.1->tensorflow) (1.26.18)\n",
      "Requirement already satisfied: certifi>=2017.4.17 in c:\\programdata\\anaconda3\\lib\\site-packages (from requests<3,>=2.21.0->tensorboard<2.15,>=2.14->tensorflow-intel==2.14.1->tensorflow) (2023.11.17)\n",
      "Requirement already satisfied: pyasn1>=0.1.3 in c:\\programdata\\anaconda3\\lib\\site-packages (from rsa<5,>=3.1.4->google-auth<3,>=1.6.3->tensorboard<2.15,>=2.14->tensorflow-intel==2.14.1->tensorflow) (0.4.8)\n",
      "Requirement already satisfied: contourpy>=1.0.1 in c:\\programdata\\anaconda3\\lib\\site-packages (from matplotlib) (1.2.0)\n",
      "Requirement already satisfied: cycler>=0.10 in c:\\programdata\\anaconda3\\lib\\site-packages (from matplotlib) (0.11.0)\n",
      "Requirement already satisfied: fonttools>=4.22.0 in c:\\programdata\\anaconda3\\lib\\site-packages (from matplotlib) (4.25.0)\n",
      "Requirement already satisfied: kiwisolver>=1.3.1 in c:\\programdata\\anaconda3\\lib\\site-packages (from matplotlib) (1.4.4)\n",
      "Requirement already satisfied: pillow>=8 in c:\\programdata\\anaconda3\\lib\\site-packages (from matplotlib) (10.0.1)\n",
      "Requirement already satisfied: pyparsing>=2.3.1 in c:\\programdata\\anaconda3\\lib\\site-packages (from matplotlib) (3.0.9)\n",
      "Requirement already satisfied: python-dateutil>=2.7 in c:\\programdata\\anaconda3\\lib\\site-packages (from matplotlib) (2.8.2)\n",
      "Requirement already satisfied: wheel<1.0,>=0.23.0 in c:\\users\\fbagi\\appdata\\roaming\\python\\python311\\site-packages (from astunparse>=1.6.0->tensorflow-intel==2.14.1->tensorflow) (0.42.0)\n",
      "Requirement already satisfied: oauthlib>=3.0.0 in c:\\users\\fbagi\\appdata\\roaming\\python\\python311\\site-packages (from requests-oauthlib>=0.7.0->google-auth-oauthlib<1.1,>=0.5->tensorboard<2.15,>=2.14->tensorflow-intel==2.14.1->tensorflow) (3.3.1)\n",
      "Requirement already satisfied: MarkupSafe>=2.1.1 in c:\\programdata\\anaconda3\\lib\\site-packages (from werkzeug>=1.0.1->tensorboard<2.15,>=2.14->tensorflow-intel==2.14.1->tensorflow) (2.1.3)\n"
     ]
    },
    {
     "name": "stderr",
     "output_type": "stream",
     "text": [
      "WARNING: Ignoring invalid distribution ~atplotlib (C:\\Users\\fbagi\\AppData\\Roaming\\Python\\Python311\\site-packages)\n",
      "WARNING: Ignoring invalid distribution ~atplotlib (C:\\Users\\fbagi\\AppData\\Roaming\\Python\\Python311\\site-packages)\n",
      "WARNING: Ignoring invalid distribution ~atplotlib (C:\\Users\\fbagi\\AppData\\Roaming\\Python\\Python311\\site-packages)\n"
     ]
    }
   ],
   "source": [
    "!pip install tensorflow matplotlib numpy"
   ]
  },
  {
   "cell_type": "code",
   "execution_count": 24,
   "id": "e600ab5f-35d7-4f42-a807-6930681c2e5f",
   "metadata": {},
   "outputs": [],
   "source": [
    "import numpy as np\n",
    "import matplotlib.pyplot as plt\n",
    "import tensorflow as tf\n",
    "from tensorflow.keras import layers, models\n",
    "from tensorflow.keras.datasets import mnist"
   ]
  },
  {
   "cell_type": "code",
   "execution_count": 25,
   "id": "fbcd7037-d10f-47e5-bf47-a3b417e8889c",
   "metadata": {},
   "outputs": [],
   "source": [
    "# Load and preprocess MNIST data\n",
    "(x_train, y_train), (x_test, y_test) = mnist.load_data()\n",
    "x_train = x_train[..., np.newaxis] / 255.0\n",
    "x_test = x_test[..., np.newaxis] / 255.0"
   ]
  },
  {
   "cell_type": "code",
   "execution_count": 26,
   "id": "7c8b1bb8-60bb-41fd-8177-942c3aeaba33",
   "metadata": {},
   "outputs": [],
   "source": [
    "# Define CNN model compatible with CAM (GAP + Dense)\n",
    "model = models.Sequential([\n",
    "    layers.Conv2D(32, (3,3), activation='relu', input_shape=(28, 28, 1)),\n",
    "    layers.MaxPooling2D((2,2)),\n",
    "    layers.Conv2D(64, (3,3), activation='relu'),\n",
    "    layers.GlobalAveragePooling2D(),\n",
    "    layers.Dense(10, activation='softmax')\n",
    "])"
   ]
  },
  {
   "cell_type": "code",
   "execution_count": 27,
   "id": "c9b1ad95-6f20-4348-9799-1b6478ff1c08",
   "metadata": {},
   "outputs": [
    {
     "name": "stdout",
     "output_type": "stream",
     "text": [
      "Epoch 1/3\n",
      "1688/1688 [==============================] - 17s 10ms/step - loss: 1.0908 - accuracy: 0.6539 - val_loss: 0.5429 - val_accuracy: 0.8503\n",
      "Epoch 2/3\n",
      "1688/1688 [==============================] - 16s 9ms/step - loss: 0.4978 - accuracy: 0.8530 - val_loss: 0.3537 - val_accuracy: 0.9012\n",
      "Epoch 3/3\n",
      "1688/1688 [==============================] - 16s 10ms/step - loss: 0.3775 - accuracy: 0.8882 - val_loss: 0.2994 - val_accuracy: 0.9112\n"
     ]
    },
    {
     "data": {
      "text/plain": [
       "<keras.src.callbacks.History at 0x209b3a4cf10>"
      ]
     },
     "execution_count": 27,
     "metadata": {},
     "output_type": "execute_result"
    }
   ],
   "source": [
    "# Compile and train\n",
    "model.compile(optimizer='adam', loss='sparse_categorical_crossentropy', metrics=['accuracy'])\n",
    "model.fit(x_train, y_train, epochs=3, validation_split=0.1)"
   ]
  },
  {
   "cell_type": "code",
   "execution_count": 28,
   "id": "b6574a19-bf49-4eef-b9f5-f8acea697118",
   "metadata": {},
   "outputs": [],
   "source": [
    "# Get model internals\n",
    "gap_layer_model = tf.keras.Model(inputs=model.input,\n",
    "                                 outputs=model.get_layer(index=-2).output)\n",
    "\n",
    "final_dense = model.layers[-1]\n",
    "weights = final_dense.get_weights()[0]  # Shape: (num_features, num_classes)"
   ]
  },
  {
   "cell_type": "code",
   "execution_count": 29,
   "id": "83e14bc7-1591-4fa9-8fb3-cabc4e57a457",
   "metadata": {},
   "outputs": [
    {
     "name": "stdout",
     "output_type": "stream",
     "text": [
      "1/1 [==============================] - 0s 46ms/step\n"
     ]
    }
   ],
   "source": [
    "# Pick a test image\n",
    "i = 0\n",
    "img = x_test[i:i+1]\n",
    "true_label = y_test[i]\n",
    "pred_label = np.argmax(model.predict(img), axis=1)[0]"
   ]
  },
  {
   "cell_type": "code",
   "execution_count": 30,
   "id": "c9422311-a6d3-4584-a8ac-85971a099f6a",
   "metadata": {},
   "outputs": [],
   "source": [
    "# Forward pass up to GAP layer\n",
    "feature_maps = gap_layer_model(img)"
   ]
  },
  {
   "cell_type": "code",
   "execution_count": 31,
   "id": "2b70a26d-8eae-46cb-8a40-4237e5d4db11",
   "metadata": {},
   "outputs": [],
   "source": [
    "# Generate CAM\n",
    "cam = tf.reduce_sum(tf.multiply(feature_maps[0], weights[:, pred_label]), axis=-1).numpy()"
   ]
  },
  {
   "cell_type": "code",
   "execution_count": 42,
   "id": "4177fcac-3718-4b8b-be44-17790638cee3",
   "metadata": {},
   "outputs": [],
   "source": [
    "# Add batch and channel dimension: (1, H, W, 1)\n",
    "cam_batch = tf.expand_dims(cam, axis=0)      # (1, H, W)\n",
    "cam_batch = tf.expand_dims(cam_batch, axis=-1)  # (1, H, W, 1)"
   ]
  },
  {
   "cell_type": "code",
   "execution_count": 44,
   "id": "e3ae6dde-be3a-4536-ac20-f3397ae8603a",
   "metadata": {},
   "outputs": [
    {
     "name": "stdout",
     "output_type": "stream",
     "text": [
      "Shape after resize and squeeze: (28, 28)\n"
     ]
    }
   ],
   "source": [
    "# Resize to (28, 28)\n",
    "cam_resized = tf.image.resize(cam_batch, [28, 28]).numpy().squeeze()\n",
    "print(\"Shape after resize and squeeze:\", cam_resized.shape)"
   ]
  },
  {
   "cell_type": "code",
   "execution_count": 45,
   "id": "c0be9d76-2098-4c74-bacc-a6bf93a34af3",
   "metadata": {},
   "outputs": [
    {
     "name": "stderr",
     "output_type": "stream",
     "text": [
      "C:\\Users\\fbagi\\AppData\\Local\\Temp\\ipykernel_34616\\2391585011.py:2: RuntimeWarning: invalid value encountered in divide\n",
      "  cam_resized = (cam_resized - cam_resized.min()) / (cam_resized.max() - cam_resized.min())\n"
     ]
    }
   ],
   "source": [
    "#  Normalize and plot\n",
    "cam_resized = (cam_resized - cam_resized.min()) / (cam_resized.max() - cam_resized.min())"
   ]
  },
  {
   "cell_type": "code",
   "execution_count": 46,
   "id": "d9f243ac-bb2a-47be-bc35-d26f51266975",
   "metadata": {},
   "outputs": [
    {
     "data": {
      "image/png": "[encoded data removed]",
      "text/plain": [
       "<Figure size 640x480 with 2 Axes>"
      ]
     },
     "metadata": {},
     "output_type": "display_data"
    }
   ],
   "source": [
    "# Visualize\n",
    "plt.imshow(x_test[i].squeeze(), cmap='gray')\n",
    "plt.imshow(cam_resized, cmap='jet', alpha=0.5)\n",
    "plt.title(f'Class Activation Map - True: {true_label}, Pred: {pred_label}')\n",
    "plt.colorbar()\n",
    "plt.show()"
   ]
  },
  {
   "cell_type": "code",
   "execution_count": null,
   "id": "b5f8e1eb-61dd-45ce-ba31-e8df07458897",
   "metadata": {},
   "outputs": [],
   "source": []
  },
  {
   "cell_type": "code",
   "execution_count": null,
   "id": "61f19be2-3c67-4ee9-bda0-e1a5934fe507",
   "metadata": {},
   "outputs": [],
   "source": []
  },
  {
   "cell_type": "code",
   "execution_count": null,
   "id": "3e4b614e-474f-4fbe-9c90-969e4b48c053",
   "metadata": {},
   "outputs": [],
   "source": []
  }
 ],
 "metadata": {
  "kernelspec": {
   "display_name": "Python 3 (ipykernel)",
   "language": "python",
   "name": "python3"
  },
  "language_info": {
   "codemirror_mode": {
    "name": "ipython",
    "version": 3
   },
   "file_extension": ".py",
   "mimetype": "text/x-python",
   "name": "python",
   "nbconvert_exporter": "python",
   "pygments_lexer": "ipython3",
   "version": "3.11.5"
  }
 },
 "nbformat": 4,
 "nbformat_minor": 5
}
