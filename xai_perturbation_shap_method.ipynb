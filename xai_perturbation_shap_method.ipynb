{
 "cells": [
  {
   "cell_type": "markdown",
   "id": "ae44adda-97d8-4f71-ab5c-6f50a5d285be",
   "metadata": {},
   "source": [
    "# Perturbation-Based Techniques\n",
    "\n",
    "These methods explain how a model reacts when you slightly change (perturb) its input. Think: “What happens if I sneakily change one pixel or word?”"
   ]
  },
  {
   "cell_type": "markdown",
   "id": "13038947-d6a4-463a-a4b8-03b4bdb0adcb",
   "metadata": {},
   "source": [
    "## SHAP (SHapley Additive exPlanations) (Work in progress...)\n",
    "\n",
    "**Idea**: This method uses game‑theory to assign each feature (pixel, word, etc.) a fair “value” for its contribution to the final prediction."
   ]
  },
  {
   "cell_type": "code",
   "execution_count": 32,
   "id": "5c81ce08-7d31-4c19-88fc-b6c688036cfe",
   "metadata": {},
   "outputs": [
    {
     "name": "stdout",
     "output_type": "stream",
     "text": [
      "Defaulting to user installation because normal site-packages is not writeable\n",
      "Looking in indexes: https://pypi.org/simple, https://pypi.ngc.nvidia.com\n",
      "Collecting shap\n",
      "  Downloading shap-0.48.0-cp311-cp311-win_amd64.whl.metadata (25 kB)\n",
      "Requirement already satisfied: numpy in c:\\users\\fbagi\\appdata\\roaming\\python\\python311\\site-packages (from shap) (1.24.4)\n",
      "Requirement already satisfied: scipy in c:\\users\\fbagi\\appdata\\roaming\\python\\python311\\site-packages (from shap) (1.10.1)\n",
      "Requirement already satisfied: scikit-learn in c:\\programdata\\anaconda3\\lib\\site-packages (from shap) (1.2.2)\n",
      "Requirement already satisfied: pandas in c:\\users\\fbagi\\appdata\\roaming\\python\\python311\\site-packages (from shap) (1.5.3)\n",
      "Requirement already satisfied: tqdm>=4.27.0 in c:\\programdata\\anaconda3\\lib\\site-packages (from shap) (4.65.0)\n",
      "Requirement already satisfied: packaging>20.9 in c:\\programdata\\anaconda3\\lib\\site-packages (from shap) (23.1)\n",
      "Collecting slicer==0.0.8 (from shap)\n",
      "  Downloading slicer-0.0.8-py3-none-any.whl.metadata (4.0 kB)\n",
      "Requirement already satisfied: numba>=0.54 in c:\\programdata\\anaconda3\\lib\\site-packages (from shap) (0.58.1)\n",
      "Requirement already satisfied: cloudpickle in c:\\programdata\\anaconda3\\lib\\site-packages (from shap) (2.2.1)\n",
      "Requirement already satisfied: typing-extensions in c:\\programdata\\anaconda3\\lib\\site-packages (from shap) (4.9.0)\n",
      "Requirement already satisfied: llvmlite<0.42,>=0.41.0dev0 in c:\\programdata\\anaconda3\\lib\\site-packages (from numba>=0.54->shap) (0.41.0)\n",
      "Requirement already satisfied: colorama in c:\\programdata\\anaconda3\\lib\\site-packages (from tqdm>=4.27.0->shap) (0.4.6)\n",
      "Requirement already satisfied: python-dateutil>=2.8.1 in c:\\programdata\\anaconda3\\lib\\site-packages (from pandas->shap) (2.8.2)\n",
      "Requirement already satisfied: pytz>=2020.1 in c:\\programdata\\anaconda3\\lib\\site-packages (from pandas->shap) (2023.3.post1)\n",
      "Requirement already satisfied: six>=1.5 in c:\\programdata\\anaconda3\\lib\\site-packages (from python-dateutil>=2.8.1->pandas->shap) (1.16.0)\n",
      "Requirement already satisfied: joblib>=1.1.1 in c:\\programdata\\anaconda3\\lib\\site-packages (from scikit-learn->shap) (1.2.0)\n",
      "Requirement already satisfied: threadpoolctl>=2.0.0 in c:\\programdata\\anaconda3\\lib\\site-packages (from scikit-learn->shap) (2.2.0)\n",
      "Downloading shap-0.48.0-cp311-cp311-win_amd64.whl (544 kB)\n",
      "   ---------------------------------------- 0.0/544.4 kB ? eta -:--:--\n",
      "   ---------------------------------------- 544.4/544.4 kB 17.6 MB/s  0:00:00\n",
      "Downloading slicer-0.0.8-py3-none-any.whl (15 kB)\n",
      "Installing collected packages: slicer, shap\n",
      "\n",
      "   -------------------- ------------------- 1/2 [shap]\n",
      "   -------------------- ------------------- 1/2 [shap]\n",
      "   -------------------- ------------------- 1/2 [shap]\n",
      "   -------------------- ------------------- 1/2 [shap]\n",
      "   -------------------- ------------------- 1/2 [shap]\n",
      "   -------------------- ------------------- 1/2 [shap]\n",
      "   -------------------- ------------------- 1/2 [shap]\n",
      "   -------------------- ------------------- 1/2 [shap]\n",
      "   -------------------- ------------------- 1/2 [shap]\n",
      "   ---------------------------------------- 2/2 [shap]\n",
      "\n",
      "Successfully installed shap-0.48.0 slicer-0.0.8\n"
     ]
    },
    {
     "name": "stderr",
     "output_type": "stream",
     "text": [
      "WARNING: Ignoring invalid distribution ~atplotlib (C:\\Users\\fbagi\\AppData\\Roaming\\Python\\Python311\\site-packages)\n",
      "WARNING: Ignoring invalid distribution ~atplotlib (C:\\Users\\fbagi\\AppData\\Roaming\\Python\\Python311\\site-packages)\n",
      "WARNING: Ignoring invalid distribution ~atplotlib (C:\\Users\\fbagi\\AppData\\Roaming\\Python\\Python311\\site-packages)\n"
     ]
    }
   ],
   "source": [
    "!pip install shap"
   ]
  },
  {
   "cell_type": "code",
   "execution_count": null,
   "id": "16727a92-f9b1-4b6d-b88c-d5ba4a49bbb1",
   "metadata": {},
   "outputs": [],
   "source": []
  },
  {
   "cell_type": "code",
   "execution_count": null,
   "id": "fcef3303-cda4-4e84-9283-750004ef377a",
   "metadata": {},
   "outputs": [],
   "source": []
  },
  {
   "cell_type": "code",
   "execution_count": null,
   "id": "c9f2ee72-ee8c-4c63-ba39-a85c178622cf",
   "metadata": {},
   "outputs": [],
   "source": []
  }
 ],
 "metadata": {
  "kernelspec": {
   "display_name": "Python 3 (ipykernel)",
   "language": "python",
   "name": "python3"
  },
  "language_info": {
   "codemirror_mode": {
    "name": "ipython",
    "version": 3
   },
   "file_extension": ".py",
   "mimetype": "text/x-python",
   "name": "python",
   "nbconvert_exporter": "python",
   "pygments_lexer": "ipython3",
   "version": "3.11.5"
  }
 },
 "nbformat": 4,
 "nbformat_minor": 5
}
